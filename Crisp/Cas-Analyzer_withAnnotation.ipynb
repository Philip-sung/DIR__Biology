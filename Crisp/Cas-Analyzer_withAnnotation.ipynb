{
 "cells": [
  {
   "cell_type": "markdown",
   "id": "398de501",
   "metadata": {},
   "source": [
    "## 01 Load External Libraries(Modules)"
   ]
  },
  {
   "cell_type": "code",
   "execution_count": 1,
   "id": "b11dc8f9",
   "metadata": {},
   "outputs": [],
   "source": [
    "from needle import *"
   ]
  },
  {
   "cell_type": "markdown",
   "id": "8dd71221",
   "metadata": {},
   "source": [
    "## 02 Set Analysis Parameters"
   ]
  },
  {
   "cell_type": "code",
   "execution_count": 2,
   "id": "5b384404",
   "metadata": {},
   "outputs": [],
   "source": [
    "ref_seq = 'ATGCATTTTTTTGAGACAAGGTCTTGCTCTATTGTCCAGGCTGGAGTGCAGTGGCACAATCACAGTTCACTCCAGCCTCAACATCCTGCACTAAAGTGATTTTCCCACCTCACCTCTCAAGTAGCTGGGACTACAGGTACATGCTACCATGCCTGGCTAATTTTTTTTTTTTTGCAGGCATGGGGTCTCACTGTATTGCCCAGGTTGGTGTGGAAGTTTAATGACTAAGAGGTGTTTGTTATAAAGTTTAATGTATGAAACTTTCTATTAAATTCCTGATTTTATTTCTGTAGGACTGAACGTCTTGCTCGAGATGTGATGAAGGAGATGGGAGGCCATCACATTGTAGCCCTCTGTGTGCTCAAGGGGGGCTATAAATTCTTTGCTGACCTGCTGGATTACATCAAAGCACTGAATAGAAATAGTGATAGATCCATTCCTATGACTGTAGATTTTATCAGACTGAAGAGCTATTGTGTGAGTATATTTAATATATGATTCTTTTTAGTGGCAACAGTAGGTTTTCTTATATTTTCTTTGAATCTCTGCAAACCATACTTGCTTTCATTTCACTTGGTTACAGTGAGATTTTTCTAACATATTCACTAGTACTTTACATCAAAGCCAATACTGTTTTTTTAAAACTAGTCACCTTGGAGGATATATACTTATTTTACAGGTGTGTGTGGTTTTTTAAATAAACTCCTTTTAGGAATTGCTGTTG'.upper()\n",
    "target_seq = 'GCCCCCCTTGAGCACACAGAGGG'.upper()\n",
    "\n",
    "#Compareison Range\n",
    "R = 70\n",
    "#Minimum Frequency\n",
    "min_n = 1\n",
    "#WTMarker\n",
    "r = 5\n",
    "#Indicator Sequence Length\n",
    "indiSeq_length = 15"
   ]
  },
  {
   "cell_type": "code",
   "execution_count": 3,
   "id": "09670aee",
   "metadata": {
    "scrolled": true
   },
   "outputs": [
    {
     "name": "stdout",
     "output_type": "stream",
     "text": [
      "■Reference Sequence : \n",
      "ATGCATTTTTTTGAGACAAGGTCTTGCTCTATTGTCCAGGCTGGAGTGCAGTGGCACAATCACAGTTCACTCCAGCCTCAACATCCTGCACTAAAGTGATTTTCCCACCTCACCTCTCAAGTAGCTGGGACTACAGGTACATGCTACCATGCCTGGCTAATTTTTTTTTTTTTGCAGGCATGGGGTCTCACTGTATTGCCCAGGTTGGTGTGGAAGTTTAATGACTAAGAGGTGTTTGTTATAAAGTTTAATGTATGAAACTTTCTATTAAATTCCTGATTTTATTTCTGTAGGACTGAACGTCTTGCTCGAGATGTGATGAAGGAGATGGGAGGCCATCACATTGTAGCCCTCTGTGTGCTCAAGGGGGGCTATAAATTCTTTGCTGACCTGCTGGATTACATCAAAGCACTGAATAGAAATAGTGATAGATCCATTCCTATGACTGTAGATTTTATCAGACTGAAGAGCTATTGTGTGAGTATATTTAATATATGATTCTTTTTAGTGGCAACAGTAGGTTTTCTTATATTTTCTTTGAATCTCTGCAAACCATACTTGCTTTCATTTCACTTGGTTACAGTGAGATTTTTCTAACATATTCACTAGTACTTTACATCAAAGCCAATACTGTTTTTTTAAAACTAGTCACCTTGGAGGATATATACTTATTTTACAGGTGTGTGTGGTTTTTTAAATAAACTCCTTTTAGGAATTGCTGTTG\n",
      "■Target Sequence : \n",
      "GCCCCCCTTGAGCACACAGAGGG\n",
      "■Comparsion Range : \n",
      "70\n",
      "■Minimum Frequency :\n",
      "1\n",
      "■WT marker : \n",
      "5\n"
     ]
    }
   ],
   "source": [
    "print('■Reference Sequence : \\n' + ref_seq)\n",
    "print('■Target Sequence : \\n' + target_seq)\n",
    "print('■Comparsion Range : \\n' + str(R))\n",
    "print('■Minimum Frequency :\\n' + str(min_n))\n",
    "print('■WT marker : \\n' + str(r))"
   ]
  },
  {
   "cell_type": "markdown",
   "id": "a1eb9e8d",
   "metadata": {},
   "source": [
    "## 03 Preparation(Import RawData and define Functions)"
   ]
  },
  {
   "cell_type": "code",
   "execution_count": 4,
   "id": "95db564b",
   "metadata": {},
   "outputs": [],
   "source": [
    "#fastq파일 열고 해당 파일 10만줄까지 읽기\n",
    "lineSize = 100\n",
    "f = open('33.fastqjoin').readlines()[:lineSize]"
   ]
  },
  {
   "cell_type": "code",
   "execution_count": 5,
   "id": "32e17502",
   "metadata": {},
   "outputs": [],
   "source": [
    "#해당 파일에서 사용할 함수 정의 : Reference Sequnce에 대응되는 RNA쌍 정의\n",
    "def rev_comp(s): return s.translate(s.maketrans('ATGC','TACG'))[::-1]"
   ]
  },
  {
   "cell_type": "markdown",
   "id": "d216a281",
   "metadata": {},
   "source": [
    "## 04 Set Range & Indicators for Extract Data"
   ]
  },
  {
   "cell_type": "markdown",
   "id": "31487d71",
   "metadata": {},
   "source": [
    "### 04.01 Find Target Sequence in Referene Sequence"
   ]
  },
  {
   "cell_type": "code",
   "execution_count": 6,
   "id": "9243758b",
   "metadata": {},
   "outputs": [
    {
     "name": "stdout",
     "output_type": "stream",
     "text": [
      "Case 2 : \n",
      "■Reference Sequence : \n",
      "ATGCATTTTTTTGAGACAAGGTCTTGCTCTATTGTCCAGGCTGGAGTGCAGTGGCACAATCACAGTTCACTCCAGCCTCAACATCCTGCACTAAAGTGATTTTCCCACCTCACCTCTCAAGTAGCTGGGACTACAGGTACATGCTACCATGCCTGGCTAATTTTTTTTTTTTTGCAGGCATGGGGTCTCACTGTATTGCCCAGGTTGGTGTGGAAGTTTAATGACTAAGAGGTGTTTGTTATAAAGTTTAATGTATGAAACTTTCTATTAAATTCCTGATTTTATTTCTGTAGGACTGAACGTCTTGCTCGAGATGTGATGAAGGAGATGGGAGGCCATCACATTGTAGCCCTCTGTGTGCTCAAGGGGGGCTATAAATTCTTTGCTGACCTGCTGGATTACATCAAAGCACTGAATAGAAATAGTGATAGATCCATTCCTATGACTGTAGATTTTATCAGACTGAAGAGCTATTGTGTGAGTATATTTAATATATGATTCTTTTTAGTGGCAACAGTAGGTTTTCTTATATTTTCTTTGAATCTCTGCAAACCATACTTGCTTTCATTTCACTTGGTTACAGTGAGATTTTTCTAACATATTCACTAGTACTTTACATCAAAGCCAATACTGTTTTTTTAAAACTAGTCACCTTGGAGGATATATACTTATTTTACAGGTGTGTGTGGTTTTTTAAATAAACTCCTTTTAGGAATTGCTGTTG\n",
      "■Target Sequence : \n",
      "CCCTCTGTGTGCTCAAGGGGGGC\n",
      "355\n"
     ]
    }
   ],
   "source": [
    "\n",
    "if ref_seq.find(target_seq) != -1:\n",
    "    cv_p = ref_seq.find(target_seq) + 16 #ToLSH : 왜 16을 더하는건지? cv뜻?\n",
    "    print('Case 1 : ')\n",
    "    print('■Reference Sequence : \\n' + ref_seq)\n",
    "    print('■Target Sequence : \\n' + target_seq)\n",
    "    print(cv_p)\n",
    "elif ref_seq.find(rev_comp(target_seq)) != -1:\n",
    "    cv_p = ref_seq.find(rev_comp(target_seq)) + 6 #ToLSH : 왜 6을 더하는건지?\n",
    "    print('Case 2 : ')\n",
    "    print('■Reference Sequence : \\n' + ref_seq)\n",
    "    print('■Target Sequence : \\n' + rev_comp(target_seq))\n",
    "    print(cv_p)\n",
    "else:\n",
    "    print('ERROR!! can not find target sequence in ref')"
   ]
  },
  {
   "cell_type": "markdown",
   "id": "e5142177",
   "metadata": {},
   "source": [
    "### 04.02 Define Starting point and Endpoint / Comparison Range / Indicator"
   ]
  },
  {
   "cell_type": "code",
   "execution_count": 7,
   "id": "de1672de",
   "metadata": {},
   "outputs": [],
   "source": [
    "st = cv_p - R\n",
    "ed = cv_p + R\n",
    "\n",
    "if st < 0:\n",
    "        st = 0\n",
    "if ed > len(ref_seq):\n",
    "        ed = len(ref_seq)\n",
    "        \n",
    "range_seq = ref_seq[st:ed]\n",
    "wt_marker = ref_seq[cv_p - r: cv_p + r]\n",
    "\n",
    "indi_f = ref_seq[st: st + indiSeq_length]\n",
    "indi_r = ref_seq[ed - indiSeq_length: ed]"
   ]
  },
  {
   "cell_type": "code",
   "execution_count": 8,
   "id": "d2b0a91c",
   "metadata": {},
   "outputs": [
    {
     "name": "stdout",
     "output_type": "stream",
     "text": [
      "■Starting point : \n",
      "285\n",
      "■End point : \n",
      "425\n",
      "■Range Sequnce : \n",
      "TTCTGTAGGACTGAACGTCTTGCTCGAGATGTGATGAAGGAGATGGGAGGCCATCACATTGTAGCCCTCTGTGTGCTCAAGGGGGGCTATAAATTCTTTGCTGACCTGCTGGATTACATCAAAGCACTGAATAGAAATAG\n",
      "■WT marker : \n",
      "CCTCTGTGTG\n",
      "■Front Indicator : \n",
      "TTCTGTAGGACTGAA\n",
      "■Rear Indicator : \n",
      "ACTGAATAGAAATAG\n"
     ]
    }
   ],
   "source": [
    "print('■Starting point : ')\n",
    "print(st)\n",
    "print('■End point : ')\n",
    "print(ed)\n",
    "print('■Range Sequnce : ')\n",
    "print(range_seq)\n",
    "print('■WT marker : ')\n",
    "print(wt_marker)\n",
    "print('■Front Indicator : ')\n",
    "print(indi_f)\n",
    "print('■Rear Indicator : ')\n",
    "print(indi_r)"
   ]
  },
  {
   "cell_type": "markdown",
   "id": "f9585f53",
   "metadata": {},
   "source": [
    "### 04.03 Indicator List"
   ]
  },
  {
   "cell_type": "code",
   "execution_count": 9,
   "id": "811568b4",
   "metadata": {},
   "outputs": [],
   "source": [
    "#한개 염기?(ATCG중 하나)만 바뀐 인디케이터까지는 인디케이터 리스트에 삽입\n",
    "indi_f_list = []\n",
    "indi_r_list = []\n",
    "\n",
    "for i in range(15):\n",
    "    for nt in 'ATGC':\n",
    "        indi_f_list.append(indi_f[:i] + nt + indi_f[i + 1:])\n",
    "        indi_r_list.append(indi_r[:i] + nt + indi_r[i + 1:])"
   ]
  },
  {
   "cell_type": "markdown",
   "id": "ec5c93f2",
   "metadata": {},
   "source": [
    "## 05 Extract Data"
   ]
  },
  {
   "cell_type": "markdown",
   "id": "6c64fe56",
   "metadata": {},
   "source": [
    "### 05.01 Create Count Table and Result File(txt)"
   ]
  },
  {
   "cell_type": "code",
   "execution_count": 10,
   "id": "05d665c1",
   "metadata": {},
   "outputs": [],
   "source": [
    "seq_dict = {}\n",
    "cnt_dict = {'all': 0, 'indi': 0, 'min': 0, 'wt': 0, 'del': 0, 'ins': 0, 'other': 0}\n",
    "\n",
    "fw_ins = open('ins.txt', 'w')\n",
    "fw_del = open('del.txt', 'w')"
   ]
  },
  {
   "cell_type": "markdown",
   "id": "12ba5051",
   "metadata": {},
   "source": [
    "### 05.02 Read fastq file and Classify sequences"
   ]
  },
  {
   "cell_type": "code",
   "execution_count": 11,
   "id": "0b8db067",
   "metadata": {
    "scrolled": true
   },
   "outputs": [],
   "source": [
    "#for Every line in fastq file, \n",
    "for line_n, line in enumerate(f):\n",
    "    #skip metadata\n",
    "    if line_n % 4 != 1:\n",
    "        continue\n",
    "        \n",
    "    #count valid line\n",
    "    cnt_dict['all'] += 1\n",
    "    \n",
    "    #Extract Pure data from raw(remove unrelative characters)\n",
    "    line = line.strip()\n",
    "    \n",
    "    #set flag\n",
    "    seq_st = False\n",
    "    seq_ed = False\n",
    "    \n",
    "    #check if front indicator exists in current sequence,  if exist, mark the startpoint\n",
    "    for i in indi_f_list:\n",
    "        if line.find(i) != -1:\n",
    "            seq_st = line.find(i)\n",
    "            break\n",
    "\n",
    "    #check if rear indicator exists in current sequence, if exist, mark the endpoint\n",
    "    for i in indi_r_list:\n",
    "        if line.find(i) != -1:\n",
    "            seq_ed = line.find(i) + indiSeq_length\n",
    "            break\n",
    "\n",
    "    #if Indicator doesn't exist, continue to next line(Escape from for Loop)\n",
    "    if seq_st == False or seq_ed == False:\n",
    "        continue\n",
    "\n",
    "    #count case includes front and rear indicator\n",
    "    cnt_dict['indi'] += 1\n",
    "    \n",
    "    #extract sequence srrounded by front and rear indicator\n",
    "    seq = line[seq_st: seq_ed]\n",
    "    \n",
    "    #found sequence doesn't appeared previously, add current sequence in sequence dictionary\n",
    "    if seq not in seq_dict:\n",
    "        seq_dict[seq] = 1\n",
    "    #sequnce appeared previously and already exist in sequnce dictionary, add 1 count\n",
    "    else:\n",
    "        seq_dict[seq] += 1"
   ]
  },
  {
   "cell_type": "markdown",
   "id": "32175987",
   "metadata": {},
   "source": [
    "### 05.03 Classify In/Del case in valid case dictionary"
   ]
  },
  {
   "cell_type": "code",
   "execution_count": 12,
   "id": "30cd8632",
   "metadata": {},
   "outputs": [],
   "source": [
    "#Import key:value pair from sequence dictionary and allocate key to seq, count to cnt\n",
    "#for each key and value pair : \n",
    "for seq, cnt in seq_dict.items():\n",
    "    \n",
    "    #if count is less then minimum frequency, ignore current case\n",
    "    if cnt <= min_n:\n",
    "        continue\n",
    "    #count current case as 'more than minimum frequency' case\n",
    "    cnt_dict['min'] += cnt\n",
    "    \n",
    "    #use needle module\n",
    "    needle_res = needle(range_seq, seq, 10, 10, 0.5, 0.5)\n",
    "\n",
    "    #if wt marker doesn't exist in selected sequence, add count of 'wt'\n",
    "    if seq.find(wt_marker) != -1:\n",
    "        cnt_dict['wt'] += cnt\n",
    "        \n",
    "    else:\n",
    "        #if length of selected sequence is same with range sequence of reference \n",
    "        if len(seq) == len(range_seq):\n",
    "            cnt_dict['wt'] += cnt\n",
    "        \n",
    "        #if length of selected sequence is smaller than range sequence of reference \n",
    "        #count as 'del' case and put sequence in del.txt file\n",
    "        elif len(seq) < len(range_seq):\n",
    "            cnt_dict['del'] += cnt\n",
    "            fw_del.write(needle_res[0] + '\\t' + str(cnt) + '\\n' + '\\n'.join(needle_res[1:3]) + '\\n')\n",
    "        \n",
    "        #if length of selected sequence is larger than range sequence of reference \n",
    "        #count as 'in' case and put sequence in ins.txt file\n",
    "        elif len(seq) > len(range_seq):\n",
    "            cnt_dict['ins'] += cnt\n",
    "            fw_ins.write(needle_res[0] + '\\t' + str(cnt) + '\\n' + '\\n'.join(needle_res[1:3]) + '\\n')\n",
    "        \n",
    "        #exceptions\n",
    "        else:\n",
    "            cnt_dict['other'] += cnt"
   ]
  },
  {
   "cell_type": "markdown",
   "id": "b1e41f00",
   "metadata": {},
   "source": [
    "## 06 Wrap up and show Count table"
   ]
  },
  {
   "cell_type": "code",
   "execution_count": 13,
   "id": "0dc3c333",
   "metadata": {},
   "outputs": [
    {
     "name": "stdout",
     "output_type": "stream",
     "text": [
      "{'all': 25, 'indi': 0, 'min': 0, 'wt': 0, 'del': 0, 'ins': 0, 'other': 0}\n"
     ]
    }
   ],
   "source": [
    "#Close finished txt files\n",
    "fw_del.close()\n",
    "fw_ins.close()\n",
    "\n",
    "#show count dictionary\n",
    "print(cnt_dict)"
   ]
  }
 ],
 "metadata": {
  "kernelspec": {
   "display_name": "Python 3 (ipykernel)",
   "language": "python",
   "name": "python3"
  },
  "language_info": {
   "codemirror_mode": {
    "name": "ipython",
    "version": 3
   },
   "file_extension": ".py",
   "mimetype": "text/x-python",
   "name": "python",
   "nbconvert_exporter": "python",
   "pygments_lexer": "ipython3",
   "version": "3.11.0"
  }
 },
 "nbformat": 4,
 "nbformat_minor": 5
}
